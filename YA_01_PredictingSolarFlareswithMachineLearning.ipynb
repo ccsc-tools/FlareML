{
 "cells": [
  {
   "cell_type": "markdown",
   "metadata": {},
   "source": [
    "# Predicting Solar Flares with Machine Learning"
   ]
  },
  {
   "cell_type": "markdown",
   "metadata": {
    "toc": true
   },
   "source": [
    "<h1>Table of Contents<span class=\"tocSkip\"></span></h1>\n",
    "<div class=\"toc\">\n",
    "    <ul class=\"toc-item\">\n",
    "        <li><span><a href=\"#Template-Notebook-for-EarthCube---Long-Version\"\n",
    "                    data-toc-modified-id=\"Template-Notebook-for-EarthCube---Long-Version-1\"><span\n",
    "                        class=\"toc-item-num\">1&nbsp;&nbsp;</span>YA_Notebook for Predicting Solar Flares with Machine\n",
    "                    Learning</a></span>\n",
    "            <ul class=\"toc-item\">\n",
    "                <li><span><a href=\"#Author(s)\" data-toc-modified-id=\"Author(s)-1.1\"><span\n",
    "                                class=\"toc-item-num\">1.1&nbsp;&nbsp;</span>Author(s)</a></span></li>\n",
    "                <li><span><a href=\"#Purpose\" data-toc-modified-id=\"Purpose-1.2\"><span\n",
    "                                class=\"toc-item-num\">1.2&nbsp;&nbsp;</span>Purpose</a></span></li>\n",
    "                <li><span><a href=\"#Technical-contributions\" data-toc-modified-id=\"Technical-contributions-1.3\"><span\n",
    "                                class=\"toc-item-num\">1.3&nbsp;&nbsp;</span>Technical contributions</a></span></li>\n",
    "                <li><span><a href=\"#Methodology\" data-toc-modified-id=\"Methodology-1.4\"><span\n",
    "                                class=\"toc-item-num\">1.4&nbsp;&nbsp;</span>Methodology</a></span></li>\n",
    "                <li><span><a href=\"#Funding\" data-toc-modified-id=\"Funding-1.6\"><span\n",
    "                                class=\"toc-item-num\">1.5&nbsp;&nbsp;</span>Funding</a></span></li>\n",
    "                <li><span><a href=\"#Keywords\" data-toc-modified-id=\"Keywords-1.7\"><span\n",
    "                                class=\"toc-item-num\">1.6&nbsp;&nbsp;</span>Keywords</a></span></li>\n",
    "                <li><span><a href=\"#Citation\" data-toc-modified-id=\"Citation-1.8\"><span\n",
    "                                class=\"toc-item-num\">1.7&nbsp;&nbsp;</span>Citation</a></span></li>\n",
    "            </ul>\n",
    "        </li>\n",
    "        <li><span><a href=\"#Acknowledgements\" data-toc-modified-id=\"Acknowledgements-1.11\"><span\n",
    "                        class=\"toc-item-num\">1.8&nbsp;&nbsp;</span>Acknowledgements</a></span></li>\n",
    "    </ul>\n",
    "    <li><span><a href=\"#Setup\" data-toc-modified-id=\"Setup-2\"><span\n",
    "                    class=\"toc-item-num\">2&nbsp;&nbsp;</span>Setup</a></span>\n",
    "    </li>\n",
    "    <li><span><a href=\"#Data-processing-and-analysis\" data-toc-modified-id=\"Data-processing-and-analysis-3\"><span\n",
    "                    class=\"toc-item-num\">3&nbsp;&nbsp;</span>Data processing and analysis</a></span></li>\n",
    "    <li><span><a href=\"#Binder\" data-toc-modified-id=\"Binder-4\"><span\n",
    "                    class=\"toc-item-num\">4&nbsp;&nbsp;</span>Binder</a></span></li>\n",
    "    <li><span><a href=\"#FlareML-Workflow\" data-toc-modified-id=\"FlareML-Workflow-5\"><span\n",
    "                    class=\"toc-item-num\">5&nbsp;&nbsp;</span>FlareML Workflow</a></span>\n",
    "        <ul class=\"toc-item\">\n",
    "            <li>\n",
    "                <span><a href=\"#Data-Prepration-and-Loading\"\n",
    "                        data-toc-modified-id=\"Data-Prepration-and-Loading-5.1\"><span\n",
    "                            class=\"toc-item-num\">5.1&nbsp;&nbsp;</span>Data Prepration and Loading</a></span>\n",
    "            </li>\n",
    "            <li>\n",
    "                <span><a href=\"#ENS-Model-Training-and-Testing\"\n",
    "                        data-toc-modified-id=\"ENS-Model-Training-and-Testing-5.2\"><span\n",
    "                            class=\"toc-item-num\">5.2&nbsp;&nbsp;</span>ENS Model Training and Testing</a></span>\n",
    "                <ul class=\"toc-item\">\n",
    "                    <li style='list-style: square'>\n",
    "                        <span><a href=\"#ENS-Model-Training-with-Default-Data\"\n",
    "                                data-toc-modified-id=\"ENS Model-Training-with-Default-Data-6\">\n",
    "                                <span class=\"toc-item-num\">5.2.1&nbsp;&nbsp;\n",
    "                                </span>ENS Model Training with Default Data</a></span>\n",
    "                    </li>\n",
    "                    <li style='list-style: square'>\n",
    "                        <span><a href=\"#Predicting-with-Your-ENS-Model\"\n",
    "                                data-toc-modified-id=\"Predicting-with-Your-ENS-Model-5.2.2\">\n",
    "                                <span class=\"toc-item-num\">5.2.2&nbsp;&nbsp;\n",
    "                                </span>Predicting with Your ENS Model</a></span>\n",
    "                    </li>\n",
    "                    <li style='list-style: square'>\n",
    "                        <span><a href=\"#Plotting-the-ENS-Results\" data-toc-modified-id=\"Plotting-the-ENS-Results-5.2.3\">\n",
    "                                <span class=\"toc-item-num\">5.2.3&nbsp;&nbsp;\n",
    "                                </span>Plotting the ENS Results</a></span>\n",
    "                    </li>\n",
    "                </ul>\n",
    "            </li>\n",
    "            <li>\n",
    "                <span><a href=\"#RF-Model-Training-and-Testing\"\n",
    "                        data-toc-modified-id=\"RF-Model-Training-and-Testing-5.2\"><span\n",
    "                            class=\"toc-item-num\">5.3&nbsp;&nbsp;</span>RF Model Training and Testing</a></span>\n",
    "                <ul class=\"toc-item\">\n",
    "                    <li style='list-style: square'>\n",
    "                        <span><a href=\"#RF-Model-Training-with-Default-Data\"\n",
    "                                data-toc-modified-id=\"RF Model-Training-with-Default-Data-6\">\n",
    "                                <span class=\"toc-item-num\">5.3.1&nbsp;&nbsp;\n",
    "                                </span>RF Model Training with Default Data</a></span>\n",
    "                    </li>\n",
    "                    <li style='list-style: square'>\n",
    "                        <span><a href=\"#Predicting-with-Your-RF-Model\"\n",
    "                                data-toc-modified-id=\"Predicting-with-Your-RF-Model-5.2.2\">\n",
    "                                <span class=\"toc-item-num\">5.3.2&nbsp;&nbsp;\n",
    "                                </span>Predicting with Your RF Model</a></span>\n",
    "                    </li>\n",
    "                    <li style='list-style: square'>\n",
    "                        <span><a href=\"#Plotting-the-RF-Results\" data-toc-modified-id=\"Plotting-the-RF-Results-5.2.3\">\n",
    "                                <span class=\"toc-item-num\">5.3.3&nbsp;&nbsp;\n",
    "                                </span>Plotting the RF Results</a></span>\n",
    "                    </li>\n",
    "                </ul>\n",
    "            </li>\n",
    "            <li>\n",
    "                <span><a href=\"#MLP-Model-Training-and-Testing\"\n",
    "                        data-toc-modified-id=\"MLP-Model-Training-and-Testing-5.2\"><span\n",
    "                            class=\"toc-item-num\">5.4&nbsp;&nbsp;</span>MLP Model Training and Testing</a></span>\n",
    "                <ul class=\"toc-item\">\n",
    "                    <li style='list-style: square'>\n",
    "                        <span><a href=\"#MLP-Model-Training-with-Default-Data\"\n",
    "                                data-toc-modified-id=\"MLP Model-Training-with-Default-Data-6\">\n",
    "                                <span class=\"toc-item-num\">5.4.1&nbsp;&nbsp;\n",
    "                                </span>MLP Model Training with Default Data</a></span>\n",
    "                    </li>\n",
    "                    <li style='list-style: square'>\n",
    "                        <span><a href=\"#Predicting-with-Your-MLP-Model\"\n",
    "                                data-toc-modified-id=\"Predicting-with-Your-RF-Model-5.2.2\">\n",
    "                                <span class=\"toc-item-num\">5.4.2&nbsp;&nbsp;\n",
    "                                </span>Predicting with Your MLP Model</a></span>\n",
    "                    </li>\n",
    "                    <li style='list-style: square'>\n",
    "                        <span><a href=\"#Plotting-the-MLP-Results\" data-toc-modified-id=\"Plotting-the-MLP-Results-5.2.3\">\n",
    "                                <span class=\"toc-item-num\">5.4.3&nbsp;&nbsp;\n",
    "                                </span>Plotting the MLP Results</a></span>\n",
    "                    </li>\n",
    "                </ul>\n",
    "            </li>\n",
    "            <li>\n",
    "                <span><a href=\"#ELM-Model-Training-and-Testing\"\n",
    "                        data-toc-modified-id=\"ELM-Model-Training-and-Testing-5.2\"><span\n",
    "                            class=\"toc-item-num\">5.5&nbsp;&nbsp;</span>ELM Model Training and Testing</a></span>\n",
    "                <ul class=\"toc-item\">\n",
    "                    <li style='list-style: square'>\n",
    "                        <span><a href=\"#ELM-Model-Training-with-Default-Data\"\n",
    "                                data-toc-modified-id=\"ELM Model-Training-with-Default-Data-6\">\n",
    "                                <span class=\"toc-item-num\">5.5.1&nbsp;&nbsp;\n",
    "                                </span>ELM Model Training with Default Data</a></span>\n",
    "                    </li>\n",
    "                    <li style='list-style: square'>\n",
    "                        <span><a href=\"#Predicting-with-Your-ELM-Model\"\n",
    "                                data-toc-modified-id=\"Predicting-with-Your-ELM-Model-5.2.2\">\n",
    "                                <span class=\"toc-item-num\">5.5.2&nbsp;&nbsp;\n",
    "                                </span>Predicting with Your ELM Model</a></span>\n",
    "                    </li>\n",
    "                    <li style='list-style: square'>\n",
    "                        <span><a href=\"#Plotting-the-ELM-Results\" data-toc-modified-id=\"Plotting-the-ELM-Results-5.2.3\">\n",
    "                                <span class=\"toc-item-num\">5.5.3&nbsp;&nbsp;\n",
    "                                </span>Plotting the ELM Results</a></span>\n",
    "                    </li>\n",
    "                </ul>\n",
    "            </li>\n",
    "            <li>\n",
    "                <span><a href=\"#Predicting-with-Pretrained-Models\"\n",
    "                        data-toc-modified-id=\"Predicting-with-Pretrained Models-5.6\"><span\n",
    "                            class=\"toc-item-num\">5.6&nbsp;&nbsp;</span>Predicting with Pretrained Models</a></span>\n",
    "                <ul class=\"toc-item\">\n",
    "                    <li style='list-style: square'>\n",
    "                        <span><a href=\"#Plotting-the-Pretrained-Models-Results\"\n",
    "                                data-toc-modified-id=\"Plotting-the-Pretrained-Models-Results-5.2.3\">\n",
    "                                <span class=\"toc-item-num\">5.6.1&nbsp;&nbsp;\n",
    "                                </span>Plotting the Pretrained Models Results</a></span>\n",
    "                    </li>\n",
    "                </ul>\n",
    "            </li>\n",
    "        </ul>\n",
    "    </li>\n",
    "    <li><span><a href=\"#References\" data-toc-modified-id=\"References-6\"><span\n",
    "                    class=\"toc-item-num\">6&nbsp;&nbsp;</span>References</a></span></li>\n",
    "    </ul>\n",
    "</div>"
   ]
  },
  {
   "cell_type": "markdown",
   "metadata": {},
   "source": [
    "## Author(s)\n",
    "- Author1 = {\"name\": \"Yasser Abduallah\", \"affiliation\": \"Department of Computer Science, New Jersey Institute of Technology\", \"email\": \"ya54@njit.edu\", \"orcid\": \"https://orcid.org/0000-0003-0792-2270\"}\n",
    "- Author2 = {\"name\": \"Jason T. L. Wang\", \"affiliation\": \"Department of Computer Science, New Jersey Institute of Technology\", \"email\": \"wangj@njit.edu\", \"orcid\": \"https://orcid.org/0000-0002-2486-1097\"}\n",
    "- Author3 = {\"name\": \"Haimin Wang\", \"affiliation\": \"Institute for Space Weather Sciences, New Jersey Institute of Technology\", \"email\": \"haimin.wang@njit.edu\", \"orcid\": \"https://orcid.org/0000-0002-5233-565X\"}"
   ]
  },
  {
   "cell_type": "markdown",
   "metadata": {},
   "source": [
    "## Purpose\n",
    "Solar flare prediction plays an important role in understanding and forecasting space weather. The main goal of the Helioseismic and Magnetic Imager (HMI), one of the instruments on NASA's Solar Dynamics Observatory, is to study the origin of solar variability and characterize the Sun's magnetic activity. HMI provides continuous full-disk observations of the solar vector magnetic field with high cadence data that lead to reliable predictive capability; yet, solar flare prediction effort utilizing these data is still limited.\n",
    "\n",
    "In this notebook we provide an overview of the FlareML system to demonstrate how to predict solar flares using machine learning (ML) and SDO/HMI vector magnetic data products (SHARP parameters).\n",
    "\n",
    "## Technical contributions\n",
    "\n",
    "- Provides the community with a new tool to predict solar flares.\n",
    "\n",
    "\n",
    "## Methodology\n",
    "This notebook leverages python machine learning and visualization packages: matplotlib, numpy, scikit-learn, sklearn-extensions, and pandas. It describes the steps on how to use the FlareML tool to predict solar flares types: B, C, M, and X. The FLareML is the backend of an online machine learning as service system that is available at: <a href='https://nature.njit.edu/spacesoft/DeepSun' target='new'>https://nature.njit.edu/spacesoft/DeepSun</a>. The notebook train and test sample data set to show the predictions and their accuracies in graphical bar plots.\n",
    "\n",
    "Here we present a flare prediction system, named FlareML, for predicting solar flares using machine learning (ML) based on HMI’s vector magnetic data products. Specifically, we construct training data by utilizing the physical parameters provided by the Space-weather HMI Active Region Patches (SHARP) and categorize solar flares into four classes, namely B, C, M, X, according to the X-ray flare catalogs prepared by the National Centers for Environmental Information (NCEI). Thus, the solar flare prediction problem at hand is essentially a multi-class (i.e., four-class) classification problem. The FlareML system employs four machine learning methods to tackle this multi-class prediction problem. These four methods are: (i) ensemble (ENS), (ii) random forests (RF), (iii) multilayer perceptrons (MLP), and (iv) extreme learning machines (ELM). ENS works by taking the majority vote of the results obtained from RF, MLP and ELM.\n",
    "\n",
    "\n",
    "\n",
    "## Funding\n",
    "This work was supported by U.S. NSF grants AGS-1927578 and AGS-1954737\n",
    "\n",
    "## Keywords\n",
    "keywords=[\"Flare\", \"Prediction\", \"Machine\", \"Learning\", \"SHARP\"]\n",
    "\n",
    "## Citation\n",
    "To cite this notebook: Yasser Abduallah, Jason T. L. Wang, & Haimin Wang.Predicting Solar Flares with Machine Learning, available at: <a href='https://github.com/ccsc-tools/FlareML/blob/main/ya_1.3_PredictingSolarFlareswithMachineLearning.ipynb' target='new'>https://github.com/ccsc-tools/FlareML/blob/main/ya_1.3_PredictingSolarFlareswithMachineLearning.ipynb</a>.\n",
    "\n",
    "\n",
    "\n",
    "## Acknowledgements \n",
    "\n",
    "We thank the team of SDO/HMI for producing vector magnetic data products. The flare catalogs were prepared by and made available through NOAA NCEI. This work was supported by U.S. NSF grants AGS-1927578 and AGS-1954737."
   ]
  },
  {
   "cell_type": "markdown",
   "metadata": {},
   "source": [
    "# Setup\n",
    "\n",
    "## Installation on local machine\n",
    "Running this netook in local machine requires Python version 3.8.x with the following packages and their version:\n",
    "\n",
    "|Library | Version   | Description  |\n",
    "|:---|---|:---|\n",
    "|matplotlib|3.4.2| Graphics and visualization|\n",
    "|numpy| 1.19.5| Array manipulation|\n",
    "|scikit-learn| 0.24.2| Machine learning|\n",
    "| sklearn-extensions | 0.0.2  | Extension for scikit-learn |\n",
    "| pandas|1.2.4| Data loading and manipulation|"
   ]
  },
  {
   "cell_type": "markdown",
   "metadata": {},
   "source": [
    "You may install the package using Paython pip packages manager as follows:\n",
    "\n",
    "pip install matplotlib==3.4.2 numpy==1.19.5 scikit-learn==0.24.2 sklearn-extensions==0.0.2 pandas==1.2.4\n",
    "\n",
    "\n",
    "\n",
    "## Library import\n",
    "The following librar"
   ]
  },
  {
   "cell_type": "code",
   "execution_count": 33,
   "metadata": {},
   "outputs": [],
   "source": [
    "# Data manipulation\n",
    "import pandas as pd\n",
    "import numpy as np\n",
    "\n",
    "# Training model\n",
    "from sklearn.preprocessing import StandardScaler\n",
    "from sklearn.neural_network import MLPClassifier\n",
    "from sklearn_extensions.extreme_learning_machines.elm import GenELMClassifier\n",
    "from sklearn_extensions.extreme_learning_machines.random_layer import RBFRandomLayer, MLPRandomLayer\n",
    "\n",
    "# Visualizations\n",
    "import matplotlib.pyplot as plt\n",
    "from flareml_utils import plot_custom_result\n",
    "\n",
    "# Running the training, testing and prediction.\n",
    "from flareml_train import train_model\n",
    "from flareml_test import test_model\n"
   ]
  },
  {
   "cell_type": "markdown",
   "metadata": {},
   "source": [
    "# Data processing and analysis\n",
    "We created and stored 845 corresponding data samples in\n",
    "our database and accessible at https://\n",
    "nature.njit.edu/spacesoft/Flare-Predict/, where each data sample\n",
    "contains values of the 13 physical parameters or features\n",
    "listed in Table I. The two digits following a class label (B,\n",
    "C, M, X) are ignored in performing flare prediction. The time\n",
    "point of a data sample is the beginning time (00:00:01 early\n",
    "morning) of the start date of a flare and the label of the data\n",
    "sample is the class which the flare belongs to. These labeled\n",
    "data samples are used to train and the FlarML system.\n",
    "\n",
    "For this notebook, we use sample data sets for train and test."
   ]
  },
  {
   "cell_type": "markdown",
   "metadata": {},
   "source": [
    "# Binder\n",
    "\n",
    "This notebook is Binder enabled and can be run on <a target='new' href='https://mybinder.org/'>mybinder.org</a> by using the image link below:\n",
    "\n",
    "<p float=\"left\"> <a href='https://mybinder.org/v2/gh/ccsc-tools/FlareML/HEAD?labpath=YA_01_PredictingSolarFlareswithMachineLearning.ipynb' target='new'><img align=\"left\" src='https://mybinder.org/badge_logo.svg'></img></a></p>\n",
    "\n",
    "<br><br>\n",
    "<b><it>Please note that starting Binder might take some time to create and start the image.</it></b>\n",
    "\n"
   ]
  },
  {
   "cell_type": "markdown",
   "metadata": {},
   "source": [
    "# FlareML Workflow\n"
   ]
  },
  {
   "cell_type": "markdown",
   "metadata": {},
   "source": [
    "## Data Prepration and Loading\n",
    "The data folder includes two sub-directories: train_data and test_data.\n",
    "* The train_data includes a CSV training data file that is used to train the model. \n",
    "* The test_data includes a CSV test data file that is used to predict the included flares.\n",
    "\n",
    "The files are loaded and used during the testing and training process."
   ]
  },
  {
   "cell_type": "markdown",
   "metadata": {},
   "source": [
    "## ENS Model Training and Testing\n",
    "You may train the model with your own data or train the model with the default data.\n",
    "\n",
    "### ENS Model Training with Default Data\n",
    "Here, we show how to train the model with default data.\n",
    "To train the model with your own data:\n",
    "1. You should first upload your file to the data directory (in the left hand side file list).\n",
    "2. Edit the args variable in the following code and update the path to the training file:<br> 'train_data_file':'data/train_data/flaringar_training_sample.csv' <br>and replace the value 'data/train_data/flaringar_training_sample.csv' with your new file name."
   ]
  },
  {
   "cell_type": "code",
   "execution_count": 16,
   "metadata": {},
   "outputs": [
    {
     "name": "stdout",
     "output_type": "stream",
     "text": [
      "Loading the train_model function...\n",
      "Starting training with a model with id: custom_model_id training data file: data/train_data/flaringar_training_sample.csv\n",
      "Loading data set...\n",
      "Training is in progress, please wait until it is done...\n",
      "Finished 1/3 training..\n",
      "Finished 2/3 training..\n",
      "Finished 3/3 training..\n",
      "\n",
      "Finished training the ENS model, you may use the flareml_test.py program to make prediction.\n"
     ]
    }
   ],
   "source": [
    "print('Loading the train_model function...')\n",
    "from flareml_train import train_model\n",
    "args = {'train_data_file':'data/train_data/flaringar_training_sample.csv',\n",
    "        'algorithm': 'ENS',\n",
    "       'modelid': 'custom_model_id'\n",
    "      }\n",
    "train_model(args)"
   ]
  },
  {
   "cell_type": "markdown",
   "metadata": {},
   "source": [
    "### Predicting with Your ENS Model\n",
    "To predict the testing data using the model you trained above, make sure the modelid value in the args variable in the following code is set exactly as the one used in the training, for example: 'custom_model_id'."
   ]
  },
  {
   "cell_type": "code",
   "execution_count": 17,
   "metadata": {},
   "outputs": [
    {
     "name": "stdout",
     "output_type": "stream",
     "text": [
      "Starting testing with a model with id: custom_model_id testing data file: data/test_data/flaringar_simple_random_40.csv\n",
      "Loading data set...\n",
      "Done loading data...\n",
      "Formatting and mapping the flares classes..\n",
      "Prediction is in progress, please wait until it is done...\n",
      "Finished the prediction task..\n"
     ]
    }
   ],
   "source": [
    "from flareml_test import test_model\n",
    "args =  {'test_data_file': 'data/test_data/flaringar_simple_random_40.csv', \n",
    "         'algorithm': 'ENS', \n",
    "         'modelid': 'custom_model_id'}\n",
    "custom_result = test_model(args)"
   ]
  },
  {
   "cell_type": "markdown",
   "metadata": {},
   "source": [
    "### Plotting the ENS Results\n",
    "The prediction result can be plotted by passing the result variable to the function plot_custom_result as shown in the following example. The result shows the accuracy (TSS value) your model achieves for each flare class."
   ]
  },
  {
   "cell_type": "code",
   "execution_count": 18,
   "metadata": {},
   "outputs": [
    {
     "data": {
      "image/png": "[encoded data removed]",
      "text/plain": [
       "<Figure size 432x273.6 with 1 Axes>"
      ]
     },
     "metadata": {
      "needs_background": "light"
     },
     "output_type": "display_data"
    }
   ],
   "source": [
    "from flareml_utils import plot_custom_result\n",
    "plot_custom_result(custom_result)"
   ]
  },
  {
   "cell_type": "markdown",
   "metadata": {},
   "source": [
    "## RF Model Training and Testing"
   ]
  },
  {
   "cell_type": "markdown",
   "metadata": {},
   "source": [
    "### RF Model Training with Default Data"
   ]
  },
  {
   "cell_type": "code",
   "execution_count": 19,
   "metadata": {},
   "outputs": [
    {
     "name": "stdout",
     "output_type": "stream",
     "text": [
      "Loading the train_model function...\n",
      "Starting training with a model with id: custom_model_id training data file: data/train_data/flaringar_training_sample.csv\n",
      "Loading data set...\n",
      "Training is in progress, please wait until it is done...\n",
      "\n",
      "Finished training the RF model, you may use the flareml_test.py program to make prediction.\n"
     ]
    }
   ],
   "source": [
    "print('Loading the train_model function...')\n",
    "from flareml_train import train_model\n",
    "args = {'train_data_file':'data/train_data/flaringar_training_sample.csv',\n",
    "        'algorithm': 'RF',\n",
    "       'modelid': 'custom_model_id'\n",
    "      }\n",
    "train_model(args)"
   ]
  },
  {
   "cell_type": "markdown",
   "metadata": {},
   "source": [
    "### Predicting with Your RF Model"
   ]
  },
  {
   "cell_type": "code",
   "execution_count": 20,
   "metadata": {},
   "outputs": [
    {
     "name": "stdout",
     "output_type": "stream",
     "text": [
      "Starting testing with a model with id: custom_model_id testing data file: data/test_data/flaringar_simple_random_40.csv\n",
      "Loading data set...\n",
      "Done loading data...\n",
      "Formatting and mapping the flares classes..\n",
      "Prediction is in progress, please wait until it is done...\n",
      "Finished the prediction task..\n"
     ]
    }
   ],
   "source": [
    "from flareml_test import test_model\n",
    "args =  {'test_data_file': 'data/test_data/flaringar_simple_random_40.csv', \n",
    "         'algorithm': 'RF', \n",
    "         'modelid': 'custom_model_id'}\n",
    "custom_result = test_model(args)"
   ]
  },
  {
   "cell_type": "markdown",
   "metadata": {},
   "source": [
    "### Plotting the RF Results"
   ]
  },
  {
   "cell_type": "code",
   "execution_count": 21,
   "metadata": {
    "scrolled": true
   },
   "outputs": [
    {
     "data": {
      "image/png": "[encoded data removed]",
      "text/plain": [
       "<Figure size 432x273.6 with 1 Axes>"
      ]
     },
     "metadata": {
      "needs_background": "light"
     },
     "output_type": "display_data"
    }
   ],
   "source": [
    "from flareml_utils import plot_custom_result\n",
    "plot_custom_result(custom_result)"
   ]
  },
  {
   "cell_type": "markdown",
   "metadata": {},
   "source": [
    "## MLP Model Training and Testing\n",
    "### MLP Model Training with Default Data"
   ]
  },
  {
   "cell_type": "code",
   "execution_count": 22,
   "metadata": {},
   "outputs": [
    {
     "name": "stdout",
     "output_type": "stream",
     "text": [
      "Loading the train_model function...\n",
      "Starting training with a model with id: custom_model_id training data file: data/train_data/flaringar_training_sample.csv\n",
      "Loading data set...\n",
      "Training is in progress, please wait until it is done...\n",
      "\n",
      "Finished training the MLP model, you may use the flareml_test.py program to make prediction.\n"
     ]
    }
   ],
   "source": [
    "print('Loading the train_model function...')\n",
    "from flareml_train import train_model\n",
    "args = {'train_data_file':'data/train_data/flaringar_training_sample.csv',\n",
    "        'algorithm': 'MLP',\n",
    "       'modelid': 'custom_model_id'\n",
    "      }\n",
    "train_model(args)"
   ]
  },
  {
   "cell_type": "markdown",
   "metadata": {},
   "source": [
    "### Predicting with Your MLP Model"
   ]
  },
  {
   "cell_type": "code",
   "execution_count": 23,
   "metadata": {},
   "outputs": [
    {
     "name": "stdout",
     "output_type": "stream",
     "text": [
      "Starting testing with a model with id: custom_model_id testing data file: data/test_data/flaringar_simple_random_40.csv\n",
      "Loading data set...\n",
      "Done loading data...\n",
      "Formatting and mapping the flares classes..\n",
      "Prediction is in progress, please wait until it is done...\n",
      "Finished the prediction task..\n"
     ]
    }
   ],
   "source": [
    "from flareml_test import test_model\n",
    "args =  {'test_data_file': 'data/test_data/flaringar_simple_random_40.csv', \n",
    "         'algorithm': 'MLP', \n",
    "         'modelid': 'custom_model_id'}\n",
    "custom_result = test_model(args)"
   ]
  },
  {
   "cell_type": "markdown",
   "metadata": {},
   "source": [
    "### Plotting the MLP Results"
   ]
  },
  {
   "cell_type": "code",
   "execution_count": 24,
   "metadata": {
    "scrolled": true
   },
   "outputs": [
    {
     "data": {
      "image/png": "[encoded data removed]",
      "text/plain": [
       "<Figure size 432x273.6 with 1 Axes>"
      ]
     },
     "metadata": {
      "needs_background": "light"
     },
     "output_type": "display_data"
    }
   ],
   "source": [
    "from flareml_utils import plot_custom_result\n",
    "plot_custom_result(custom_result)"
   ]
  },
  {
   "cell_type": "markdown",
   "metadata": {},
   "source": [
    "## ELM Model Training and Testing\n",
    "### ELM Model Training with Default Data"
   ]
  },
  {
   "cell_type": "code",
   "execution_count": 25,
   "metadata": {},
   "outputs": [
    {
     "name": "stdout",
     "output_type": "stream",
     "text": [
      "Loading the train_model function...\n",
      "Starting training with a model with id: custom_model_id training data file: data/train_data/flaringar_training_sample.csv\n",
      "Loading data set...\n",
      "Training is in progress, please wait until it is done...\n",
      "\n",
      "Finished training the ELM model, you may use the flareml_test.py program to make prediction.\n"
     ]
    }
   ],
   "source": [
    "print('Loading the train_model function...')\n",
    "from flareml_train import train_model\n",
    "args = {'train_data_file':'data/train_data/flaringar_training_sample.csv',\n",
    "        'algorithm': 'ELM',\n",
    "       'modelid': 'custom_model_id'\n",
    "      }\n",
    "train_model(args)"
   ]
  },
  {
   "cell_type": "markdown",
   "metadata": {},
   "source": [
    "### Predicting with Your ELM Model"
   ]
  },
  {
   "cell_type": "code",
   "execution_count": 26,
   "metadata": {},
   "outputs": [
    {
     "name": "stdout",
     "output_type": "stream",
     "text": [
      "Starting testing with a model with id: custom_model_id testing data file: data/test_data/flaringar_simple_random_40.csv\n",
      "Loading data set...\n",
      "Done loading data...\n",
      "Formatting and mapping the flares classes..\n",
      "Prediction is in progress, please wait until it is done...\n",
      "Finished the prediction task..\n"
     ]
    }
   ],
   "source": [
    "from flareml_test import test_model\n",
    "args =  {'test_data_file': 'data/test_data/flaringar_simple_random_40.csv', \n",
    "         'algorithm': 'ELM', \n",
    "         'modelid': 'custom_model_id'}\n",
    "custom_result = test_model(args)"
   ]
  },
  {
   "cell_type": "markdown",
   "metadata": {},
   "source": [
    "### Plotting the ELM Resluts"
   ]
  },
  {
   "cell_type": "code",
   "execution_count": 28,
   "metadata": {},
   "outputs": [
    {
     "data": {
      "image/png": "[encoded data removed]",
      "text/plain": [
       "<Figure size 432x273.6 with 1 Axes>"
      ]
     },
     "metadata": {
      "needs_background": "light"
     },
     "output_type": "display_data"
    }
   ],
   "source": [
    "from flareml_utils import plot_custom_result\n",
    "plot_custom_result(custom_result)"
   ]
  },
  {
   "cell_type": "markdown",
   "metadata": {},
   "source": [
    "## Predicting with Pretrained Models\n",
    "There are default and pretrained models that can be used to predict without running your own trained model. The modelid  is set to default_model which uses all pretrained algorithms."
   ]
  },
  {
   "cell_type": "code",
   "execution_count": 2,
   "metadata": {},
   "outputs": [
    {
     "name": "stdout",
     "output_type": "stream",
     "text": [
      "Starting testing with a model with id: default_model testing data file: data/test_data/flaringar_simple_random_40.csv\n",
      "Loading data set...\n",
      "Done loading data...\n",
      "Formatting and mapping the flares classes..\n",
      "Prediction is in progress, please wait until it is done...\n",
      "Finished the prediction task..\n"
     ]
    }
   ],
   "source": [
    "from flareml_test import test_model\n",
    "args =  {'test_data_file': 'data/test_data/flaringar_simple_random_40.csv', \n",
    "         'modelid': 'default_model'}\n",
    "result = test_model(args)"
   ]
  },
  {
   "cell_type": "markdown",
   "metadata": {},
   "source": [
    "### Plotting the Pretrained Models Results"
   ]
  },
  {
   "cell_type": "code",
   "execution_count": 3,
   "metadata": {},
   "outputs": [
    {
     "data": {
      "image/png": "[encoded data removed]",
      "text/plain": [
       "<Figure size 748.8x417.6 with 1 Axes>"
      ]
     },
     "metadata": {
      "needs_background": "light"
     },
     "output_type": "display_data"
    }
   ],
   "source": [
    "from flareml_utils import plot_result\n",
    "plot_result(result)"
   ]
  },
  {
   "cell_type": "markdown",
   "metadata": {},
   "source": [
    "# References\n",
    "<ol>\n",
    "    <li>\n",
    "        DeepSun: machine-learning-as-a-service for solar flare prediction<br>\n",
    "        Yasser Abduallah, Jason T. L. Wang and Haimin Wang<br>\n",
    "        <a target='new' href='https://iopscience.iop.org/article/10.1088/1674-4527/21/7/160'>https://iopscience.iop.org/article/10.1088/1674-4527/21/7/160</a>\n",
    "    </li>\n",
    "</ol>"
   ]
  }
 ],
 "metadata": {
  "kernelspec": {
   "display_name": "Python 3",
   "language": "python",
   "name": "python3"
  },
  "language_info": {
   "codemirror_mode": {
    "name": "ipython",
    "version": 3
   },
   "file_extension": ".py",
   "mimetype": "text/x-python",
   "name": "python",
   "nbconvert_exporter": "python",
   "pygments_lexer": "ipython3",
   "version": "3.8.6"
  },
  "toc": {
   "base_numbering": 1,
   "nav_menu": {},
   "number_sections": true,
   "sideBar": true,
   "skip_h1_title": false,
   "title_cell": "Table of Contents",
   "title_sidebar": "Contents",
   "toc_cell": true,
   "toc_position": {
    "height": "calc(100% - 180px)",
    "left": "10px",
    "top": "150px",
    "width": "248.182px"
   },
   "toc_section_display": true,
   "toc_window_display": true
  }
 },
 "nbformat": 4,
 "nbformat_minor": 4
}
