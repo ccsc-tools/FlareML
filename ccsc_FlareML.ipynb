{
 "cells": [
  {
   "cell_type": "markdown",
   "id": "5d6d90cd",
   "metadata": {},
   "source": [
    "# Predicting Solar Flares with Machine Learning"
   ]
  },
  {
   "cell_type": "markdown",
   "id": "1dc15256",
   "metadata": {},
   "source": [
    "### Yasser Abduallah, Jason T. L. Wang, Haimin Wang"
   ]
  },
  {
   "cell_type": "markdown",
   "id": "deee753e",
   "metadata": {},
   "source": [
    "## 1. Introduction"
   ]
  },
  {
   "cell_type": "markdown",
   "id": "ba6a5823",
   "metadata": {},
   "source": [
    "Solar flare prediction plays an important role in understanding and forecasting space weather. The main goal of the Helioseismic and Magnetic Imager (HMI), one of the instruments on NASA's Solar Dynamics Observatory, is to study the origin of solar variability and characterize the Sun's magnetic activity. HMI provides continuous full-disk observations of the solar vector magnetic field with high cadence data that lead to reliable predictive capability; yet, solar flare prediction effort utilizing these data is still limited.\n",
    "\n",
    "In this notebook we provide an overview of the FlareML system to demonstrate how to predict solar flares using machine learning (ML) and SDO/HMI vector magnetic data products (SHARP parameters)."
   ]
  },
  {
   "cell_type": "markdown",
   "id": "7eb003ff",
   "metadata": {},
   "source": [
    "## 2. FlareML Workflow"
   ]
  },
  {
   "cell_type": "markdown",
   "id": "4c48be24",
   "metadata": {},
   "source": [
    "### 2.1 Data Prepration & Loading"
   ]
  },
  {
   "cell_type": "markdown",
   "id": "493874a6",
   "metadata": {},
   "source": [
    "The data folder includes two sub-directories: train_data and test_data.\n",
    "* The train_data includes a CSV training data file that is used to train the model. \n",
    "* The test_data includes a CSV test data file that is used to predict the included flares.\n",
    "\n",
    "The files are loaded and used during the testing and training process.\n"
   ]
  },
  {
   "cell_type": "markdown",
   "id": "bddb38a3",
   "metadata": {},
   "source": [
    "### 2.2 ENS Model Training and Testing\n",
    "You may train the model with your own data or train the model with the default data (see Sections 2.2.1 and 2.2.2)."
   ]
  },
  {
   "cell_type": "markdown",
   "id": "2d64634c",
   "metadata": {},
   "source": [
    "#### 2.2.1 ENS Model Training with Default Data\n",
    "Here, we show how to train the model with default data.\n",
    "To train the model with your own data:\n",
    "1. You should first upload your file to the data directory (in the left hand side file list).\n",
    "2. Edit the args variable in the following code and update the path to the training file:<br> 'train_data_file':'data/train_data/flaringar_training_sample.csv' <br>and replace the value 'data/train_data/flaringar_training_sample.csv' with your new file name."
   ]
  },
  {
   "cell_type": "code",
   "execution_count": 1,
   "id": "7cd949d0",
   "metadata": {},
   "outputs": [
    {
     "name": "stdout",
     "output_type": "stream",
     "text": [
      "Loading the train_model function...\n"
     ]
    },
    {
     "ename": "TypeError",
     "evalue": "__init__() takes 1 positional argument but 3 were given",
     "output_type": "error",
     "traceback": [
      "\u001b[1;31m---------------------------------------------------------------------------\u001b[0m",
      "\u001b[1;31mTypeError\u001b[0m                                 Traceback (most recent call last)",
      "\u001b[1;32m~\\AppData\\Local\\Temp/ipykernel_30272/581745522.py\u001b[0m in \u001b[0;36m<module>\u001b[1;34m\u001b[0m\n\u001b[0;32m      1\u001b[0m \u001b[0mprint\u001b[0m\u001b[1;33m(\u001b[0m\u001b[1;34m'Loading the train_model function...'\u001b[0m\u001b[1;33m)\u001b[0m\u001b[1;33m\u001b[0m\u001b[1;33m\u001b[0m\u001b[0m\n\u001b[1;32m----> 2\u001b[1;33m \u001b[1;32mfrom\u001b[0m \u001b[0mflareml_train\u001b[0m \u001b[1;32mimport\u001b[0m \u001b[0mtrain_model\u001b[0m\u001b[1;33m\u001b[0m\u001b[1;33m\u001b[0m\u001b[0m\n\u001b[0m\u001b[0;32m      3\u001b[0m args = {'train_data_file':'data/train_data/flaringar_training_sample.csv',\n\u001b[0;32m      4\u001b[0m         \u001b[1;34m'algorithm'\u001b[0m\u001b[1;33m:\u001b[0m \u001b[1;34m'ENS'\u001b[0m\u001b[1;33m,\u001b[0m\u001b[1;33m\u001b[0m\u001b[1;33m\u001b[0m\u001b[0m\n\u001b[0;32m      5\u001b[0m        \u001b[1;34m'modelid'\u001b[0m\u001b[1;33m:\u001b[0m \u001b[1;34m'custom_model_id'\u001b[0m\u001b[1;33m\u001b[0m\u001b[1;33m\u001b[0m\u001b[0m\n",
      "\u001b[1;32mE:\\opt\\NJIT\\PhD\\Published_Papers\\dissertation_June12\\dissertation_source_code\\github_repos\\deepsunutils\\FlareML\\flareml_train.py\u001b[0m in \u001b[0;36m<module>\u001b[1;34m\u001b[0m\n\u001b[0;32m     25\u001b[0m \u001b[1;32mimport\u001b[0m \u001b[0mtime\u001b[0m\u001b[1;33m\u001b[0m\u001b[1;33m\u001b[0m\u001b[0m\n\u001b[0;32m     26\u001b[0m \u001b[1;32mfrom\u001b[0m \u001b[0mtime\u001b[0m \u001b[1;32mimport\u001b[0m \u001b[0msleep\u001b[0m\u001b[1;33m\u001b[0m\u001b[1;33m\u001b[0m\u001b[0m\n\u001b[1;32m---> 27\u001b[1;33m \u001b[1;32mfrom\u001b[0m \u001b[0mflareml_utils\u001b[0m \u001b[1;32mimport\u001b[0m \u001b[1;33m*\u001b[0m\u001b[1;33m\u001b[0m\u001b[1;33m\u001b[0m\u001b[0m\n\u001b[0m\u001b[0;32m     28\u001b[0m \u001b[1;33m\u001b[0m\u001b[0m\n\u001b[0;32m     29\u001b[0m \u001b[0mTRAIN_INPUT\u001b[0m \u001b[1;33m=\u001b[0m \u001b[1;34m'data/train_data/flaringar_training_sample.csv'\u001b[0m\u001b[1;33m\u001b[0m\u001b[1;33m\u001b[0m\u001b[0m\n",
      "\u001b[1;32mE:\\opt\\NJIT\\PhD\\Published_Papers\\dissertation_June12\\dissertation_source_code\\github_repos\\deepsunutils\\FlareML\\flareml_utils.py\u001b[0m in \u001b[0;36m<module>\u001b[1;34m\u001b[0m\n\u001b[0;32m     37\u001b[0m \u001b[1;32mfrom\u001b[0m \u001b[0msklearn\u001b[0m\u001b[1;33m.\u001b[0m\u001b[0mpreprocessing\u001b[0m \u001b[1;32mimport\u001b[0m \u001b[0mStandardScaler\u001b[0m\u001b[1;33m\u001b[0m\u001b[1;33m\u001b[0m\u001b[0m\n\u001b[0;32m     38\u001b[0m \u001b[1;32mfrom\u001b[0m \u001b[0msklearn\u001b[0m\u001b[1;33m.\u001b[0m\u001b[0mneural_network\u001b[0m \u001b[1;32mimport\u001b[0m \u001b[0mMLPClassifier\u001b[0m\u001b[1;33m\u001b[0m\u001b[1;33m\u001b[0m\u001b[0m\n\u001b[1;32m---> 39\u001b[1;33m \u001b[1;32mfrom\u001b[0m \u001b[0msklearn_extensions\u001b[0m\u001b[1;33m.\u001b[0m\u001b[0mextreme_learning_machines\u001b[0m\u001b[1;33m.\u001b[0m\u001b[0melm\u001b[0m \u001b[1;32mimport\u001b[0m \u001b[0mGenELMClassifier\u001b[0m\u001b[1;33m\u001b[0m\u001b[1;33m\u001b[0m\u001b[0m\n\u001b[0m\u001b[0;32m     40\u001b[0m \u001b[1;32mfrom\u001b[0m \u001b[0msklearn_extensions\u001b[0m\u001b[1;33m.\u001b[0m\u001b[0mextreme_learning_machines\u001b[0m\u001b[1;33m.\u001b[0m\u001b[0mrandom_layer\u001b[0m \u001b[1;32mimport\u001b[0m \u001b[0mRBFRandomLayer\u001b[0m\u001b[1;33m,\u001b[0m \u001b[0mMLPRandomLayer\u001b[0m\u001b[1;33m\u001b[0m\u001b[1;33m\u001b[0m\u001b[0m\n\u001b[0;32m     41\u001b[0m \u001b[1;32mfrom\u001b[0m \u001b[0msklearn\u001b[0m\u001b[1;33m.\u001b[0m\u001b[0mlinear_model\u001b[0m \u001b[1;32mimport\u001b[0m \u001b[0mLogisticRegression\u001b[0m\u001b[1;33m\u001b[0m\u001b[1;33m\u001b[0m\u001b[0m\n",
      "\u001b[1;32mC:\\Python39\\lib\\site-packages\\sklearn_extensions\\extreme_learning_machines\\__init__.py\u001b[0m in \u001b[0;36m<module>\u001b[1;34m\u001b[0m\n\u001b[1;32m----> 1\u001b[1;33m \u001b[1;32mfrom\u001b[0m \u001b[0msklearn_extensions\u001b[0m\u001b[1;33m.\u001b[0m\u001b[0mextreme_learning_machines\u001b[0m\u001b[1;33m.\u001b[0m\u001b[0melm\u001b[0m \u001b[1;32mimport\u001b[0m \u001b[0mELMClassifier\u001b[0m\u001b[1;33m,\u001b[0m \u001b[0mELMRegressor\u001b[0m\u001b[1;33m,\u001b[0m \u001b[0mGenELMClassifier\u001b[0m\u001b[1;33m,\u001b[0m \u001b[0mGenELMRegressor\u001b[0m\u001b[1;33m\u001b[0m\u001b[1;33m\u001b[0m\u001b[0m\n\u001b[0m\u001b[0;32m      2\u001b[0m \u001b[1;32mfrom\u001b[0m \u001b[0msklearn_extensions\u001b[0m\u001b[1;33m.\u001b[0m\u001b[0mextreme_learning_machines\u001b[0m\u001b[1;33m.\u001b[0m\u001b[0mrandom_layer\u001b[0m \u001b[1;32mimport\u001b[0m \u001b[0mRBFRandomLayer\u001b[0m\u001b[1;33m,\u001b[0m \u001b[0mMLPRandomLayer\u001b[0m\u001b[1;33m,\u001b[0m \u001b[0mGRBFRandomLayer\u001b[0m\u001b[1;33m,\u001b[0m \u001b[0mRandomLayer\u001b[0m\u001b[1;33m\u001b[0m\u001b[1;33m\u001b[0m\u001b[0m\n\u001b[0;32m      3\u001b[0m \u001b[1;33m\u001b[0m\u001b[0m\n\u001b[0;32m      4\u001b[0m __all__ = [\n\u001b[0;32m      5\u001b[0m     \u001b[1;34m'ELMRegressor'\u001b[0m\u001b[1;33m,\u001b[0m\u001b[1;33m\u001b[0m\u001b[1;33m\u001b[0m\u001b[0m\n",
      "\u001b[1;32mC:\\Python39\\lib\\site-packages\\sklearn_extensions\\extreme_learning_machines\\elm.py\u001b[0m in \u001b[0;36m<module>\u001b[1;34m\u001b[0m\n\u001b[0;32m    224\u001b[0m \u001b[1;33m\u001b[0m\u001b[0m\n\u001b[0;32m    225\u001b[0m \u001b[1;33m\u001b[0m\u001b[0m\n\u001b[1;32m--> 226\u001b[1;33m \u001b[1;32mclass\u001b[0m \u001b[0mGenELMClassifier\u001b[0m\u001b[1;33m(\u001b[0m\u001b[0mBaseELM\u001b[0m\u001b[1;33m,\u001b[0m \u001b[0mClassifierMixin\u001b[0m\u001b[1;33m)\u001b[0m\u001b[1;33m:\u001b[0m\u001b[1;33m\u001b[0m\u001b[1;33m\u001b[0m\u001b[0m\n\u001b[0m\u001b[0;32m    227\u001b[0m     \"\"\"\n\u001b[0;32m    228\u001b[0m     \u001b[0mGenELMClassifier\u001b[0m \u001b[1;32mis\u001b[0m \u001b[0ma\u001b[0m \u001b[0mclassifier\u001b[0m \u001b[0mbased\u001b[0m \u001b[0mon\u001b[0m \u001b[0mthe\u001b[0m \u001b[0mExtreme\u001b[0m \u001b[0mLearning\u001b[0m \u001b[0mMachine\u001b[0m\u001b[1;33m.\u001b[0m\u001b[1;33m\u001b[0m\u001b[1;33m\u001b[0m\u001b[0m\n",
      "\u001b[1;32mC:\\Python39\\lib\\site-packages\\sklearn_extensions\\extreme_learning_machines\\elm.py\u001b[0m in \u001b[0;36mGenELMClassifier\u001b[1;34m()\u001b[0m\n\u001b[0;32m    265\u001b[0m               \u001b[1;36m2006.\u001b[0m\u001b[1;33m\u001b[0m\u001b[1;33m\u001b[0m\u001b[0m\n\u001b[0;32m    266\u001b[0m     \"\"\"\n\u001b[1;32m--> 267\u001b[1;33m     \u001b[1;32mdef\u001b[0m \u001b[0m__init__\u001b[0m\u001b[1;33m(\u001b[0m\u001b[0mself\u001b[0m\u001b[1;33m,\u001b[0m \u001b[0mhidden_layer\u001b[0m\u001b[1;33m=\u001b[0m\u001b[0mMLPRandomLayer\u001b[0m\u001b[1;33m(\u001b[0m\u001b[0mrandom_state\u001b[0m\u001b[1;33m=\u001b[0m\u001b[1;36m0\u001b[0m\u001b[1;33m)\u001b[0m\u001b[1;33m,\u001b[0m \u001b[0mbinarizer\u001b[0m\u001b[1;33m=\u001b[0m\u001b[0mLabelBinarizer\u001b[0m\u001b[1;33m(\u001b[0m\u001b[1;33m-\u001b[0m\u001b[1;36m1\u001b[0m\u001b[1;33m,\u001b[0m \u001b[1;36m1\u001b[0m\u001b[1;33m)\u001b[0m\u001b[1;33m,\u001b[0m \u001b[0mregressor\u001b[0m\u001b[1;33m=\u001b[0m\u001b[1;32mNone\u001b[0m\u001b[1;33m)\u001b[0m\u001b[1;33m:\u001b[0m\u001b[1;33m\u001b[0m\u001b[1;33m\u001b[0m\u001b[0m\n\u001b[0m\u001b[0;32m    268\u001b[0m         \"\"\"\n\u001b[0;32m    269\u001b[0m \u001b[1;33m\u001b[0m\u001b[0m\n",
      "\u001b[1;31mTypeError\u001b[0m: __init__() takes 1 positional argument but 3 were given"
     ]
    }
   ],
   "source": [
    "print('Loading the train_model function...')\n",
    "from flareml_train import train_model\n",
    "args = {'train_data_file':'data/train_data/flaringar_training_sample.csv',\n",
    "        'algorithm': 'ENS',\n",
    "       'modelid': 'custom_model_id'\n",
    "      }\n",
    "train_model(args)"
   ]
  },
  {
   "cell_type": "markdown",
   "id": "ef799aa4",
   "metadata": {},
   "source": [
    "#### 2.2.2 Predicting with Your ENS Model\n",
    "To predict the testing data using the model you trained above, make sure the modelid value in the args variable in the following code is set exactly as the one used in the training, for example: 'custom_model_id'."
   ]
  },
  {
   "cell_type": "code",
   "execution_count": null,
   "id": "4462fa5f",
   "metadata": {},
   "outputs": [],
   "source": [
    "from flareml_test import test_model\n",
    "args =  {'test_data_file': 'data/test_data/flaringar_simple_random_40.csv', \n",
    "         'algorithm': 'ENS', \n",
    "         'modelid': 'custom_model_id'}\n",
    "custom_result = test_model(args)"
   ]
  },
  {
   "cell_type": "markdown",
   "id": "1f086d50",
   "metadata": {},
   "source": [
    "#### 2.2.3 Plotting the Results\n",
    "The prediction result can be plotted by passing the result variable to the function plot_custom_result as shown in the following example. The result shows the accuracy (TSS value) your model achieves for each flare class."
   ]
  },
  {
   "cell_type": "code",
   "execution_count": null,
   "id": "4a8b18d0",
   "metadata": {},
   "outputs": [],
   "source": [
    "from flareml_utils import plot_custom_result\n",
    "plot_custom_result(custom_result)"
   ]
  },
  {
   "cell_type": "markdown",
   "id": "d7e5b566",
   "metadata": {},
   "source": [
    "### 2.3 RF Model Training and Testing"
   ]
  },
  {
   "cell_type": "markdown",
   "id": "7c323061",
   "metadata": {},
   "source": [
    "#### 2.3.1 RF Model Training with Default Data"
   ]
  },
  {
   "cell_type": "code",
   "execution_count": null,
   "id": "5c8c648e",
   "metadata": {},
   "outputs": [],
   "source": [
    "print('Loading the train_model function...')\n",
    "from flareml_train import train_model\n",
    "args = {'train_data_file':'data/train_data/flaringar_training_sample.csv',\n",
    "        'algorithm': 'RF',\n",
    "       'modelid': 'custom_model_id'\n",
    "      }\n",
    "train_model(args)"
   ]
  },
  {
   "cell_type": "markdown",
   "id": "60271ca5",
   "metadata": {},
   "source": [
    "#### 2.3.2 Predicting with Your RF Model"
   ]
  },
  {
   "cell_type": "code",
   "execution_count": null,
   "id": "42b27389",
   "metadata": {},
   "outputs": [],
   "source": [
    "from flareml_test import test_model\n",
    "args =  {'test_data_file': 'data/test_data/flaringar_simple_random_40.csv', \n",
    "         'algorithm': 'RF', \n",
    "         'modelid': 'custom_model_id'}\n",
    "custom_result = test_model(args)"
   ]
  },
  {
   "cell_type": "markdown",
   "id": "4b526bba",
   "metadata": {},
   "source": [
    "#### 2.3.3 Plotting the Results"
   ]
  },
  {
   "cell_type": "code",
   "execution_count": null,
   "id": "3cf75ac9",
   "metadata": {},
   "outputs": [],
   "source": [
    "from flareml_utils import plot_custom_result\n",
    "plot_custom_result(custom_result)"
   ]
  },
  {
   "cell_type": "markdown",
   "id": "10c42089",
   "metadata": {},
   "source": [
    "### 2.4 MLP Model Training and Testing\n",
    "#### 2.4.1 MLP Model Training with Default Data"
   ]
  },
  {
   "cell_type": "code",
   "execution_count": null,
   "id": "9015a568",
   "metadata": {},
   "outputs": [],
   "source": [
    "print('Loading the train_model function...')\n",
    "from flareml_train import train_model\n",
    "args = {'train_data_file':'data/train_data/flaringar_training_sample.csv',\n",
    "        'algorithm': 'MLP',\n",
    "       'modelid': 'custom_model_id'\n",
    "      }\n",
    "train_model(args)"
   ]
  },
  {
   "cell_type": "markdown",
   "id": "02ae8e55",
   "metadata": {},
   "source": [
    "#### 2.4.2 Predicting with Your MLP Model"
   ]
  },
  {
   "cell_type": "code",
   "execution_count": null,
   "id": "818dc267",
   "metadata": {},
   "outputs": [],
   "source": [
    "from flareml_test import test_model\n",
    "args =  {'test_data_file': 'data/test_data/flaringar_simple_random_40.csv', \n",
    "         'algorithm': 'MLP', \n",
    "         'modelid': 'custom_model_id'}\n",
    "custom_result = test_model(args)"
   ]
  },
  {
   "cell_type": "markdown",
   "id": "2b458606",
   "metadata": {},
   "source": [
    "#### 2.4.3 Plotting the Results"
   ]
  },
  {
   "cell_type": "code",
   "execution_count": null,
   "id": "51521c19",
   "metadata": {},
   "outputs": [],
   "source": [
    "from flareml_utils import plot_custom_result\n",
    "plot_custom_result(custom_result)"
   ]
  },
  {
   "cell_type": "markdown",
   "id": "f5700212",
   "metadata": {},
   "source": [
    "### 2.5 ELM Model Training and Testing\n",
    "#### 2.5.1 ELM Model Training with Default Data"
   ]
  },
  {
   "cell_type": "code",
   "execution_count": null,
   "id": "2a29d012",
   "metadata": {},
   "outputs": [],
   "source": [
    "print('Loading the train_model function...')\n",
    "from flareml_train import train_model\n",
    "args = {'train_data_file':'data/train_data/flaringar_training_sample.csv',\n",
    "        'algorithm': 'ELM',\n",
    "       'modelid': 'custom_model_id'\n",
    "      }\n",
    "train_model(args)"
   ]
  },
  {
   "cell_type": "markdown",
   "id": "2fd70b36",
   "metadata": {},
   "source": [
    "#### 2.5.2 Predicting with Your ELM Model"
   ]
  },
  {
   "cell_type": "code",
   "execution_count": null,
   "id": "6011fd17",
   "metadata": {},
   "outputs": [],
   "source": [
    "from flareml_test import test_model\n",
    "args =  {'test_data_file': 'data/test_data/flaringar_simple_random_40.csv', \n",
    "         'algorithm': 'ELM', \n",
    "         'modelid': 'custom_model_id'}\n",
    "custom_result = test_model(args)"
   ]
  },
  {
   "cell_type": "markdown",
   "id": "dd56bdfb",
   "metadata": {},
   "source": [
    "#### 2.5.3 Plotting the Resluts"
   ]
  },
  {
   "cell_type": "code",
   "execution_count": null,
   "id": "d6c95dc5",
   "metadata": {},
   "outputs": [],
   "source": [
    "from flareml_utils import plot_custom_result\n",
    "plot_custom_result(custom_result)"
   ]
  },
  {
   "cell_type": "markdown",
   "id": "497a7341",
   "metadata": {},
   "source": [
    "### 2.6 Predicting with Pretrained Models\n",
    "There are default and pretrained models that can be used to predict without running your own trained model. The modelid  is set to default_model which uses all pretrained algorithms."
   ]
  },
  {
   "cell_type": "code",
   "execution_count": null,
   "id": "69e73e67",
   "metadata": {},
   "outputs": [],
   "source": [
    "from flareml_test import test_model\n",
    "args =  {'test_data_file': 'data/test_data/flaringar_simple_random_40.csv', \n",
    "         'modelid': 'default_model'}\n",
    "result = test_model(args)"
   ]
  },
  {
   "cell_type": "markdown",
   "id": "3c18add3",
   "metadata": {},
   "source": [
    "#### 2.6.1 Plotting the Results\n",
    "The prediction result can be plotted by passing the result variable to the function plot_result as shown in the following example.\n",
    "The result shows the accuracy (TSS value) that each of the pretrained models achieves for each flare class."
   ]
  },
  {
   "cell_type": "code",
   "execution_count": null,
   "id": "f040cdc7",
   "metadata": {},
   "outputs": [],
   "source": [
    "from flareml_utils import plot_result\n",
    "plot_result(result)"
   ]
  },
  {
   "cell_type": "markdown",
   "id": "2dab0eae",
   "metadata": {},
   "source": [
    "## 3. Acknowledgment\n",
    "We thank the team of SDO/HMI for producing vector magnetic data products. The flare catalogs were prepared by and made available through NOAA NCEI. This work was supported by U.S. NSF grants AGS-1927578 and AGS-1954737."
   ]
  },
  {
   "cell_type": "markdown",
   "id": "6643b5e9",
   "metadata": {},
   "source": [
    "## 4. References\n",
    "DeepSun: machine-learning-as-a-service for solar flare prediction\n",
    "\n",
    "Yasser Abduallah, Jason T. L. Wang and Haimin Wang \n",
    "\n",
    "https://iopscience.iop.org/article/10.1088/1674-4527/21/7/160"
   ]
  }
 ],
 "metadata": {
  "kernelspec": {
   "display_name": "Python 3 (ipykernel)",
   "language": "python",
   "name": "python3"
  },
  "language_info": {
   "codemirror_mode": {
    "name": "ipython",
    "version": 3
   },
   "file_extension": ".py",
   "mimetype": "text/x-python",
   "name": "python",
   "nbconvert_exporter": "python",
   "pygments_lexer": "ipython3",
   "version": "3.9.7"
  }
 },
 "nbformat": 4,
 "nbformat_minor": 5
}
