{
 "cells": [
  {
   "cell_type": "markdown",
   "id": "5d6d90cd",
   "metadata": {},
   "source": [
    "# Predicting Solar Flares with Machine Learning"
   ]
  },
  {
   "cell_type": "markdown",
   "id": "1dc15256",
   "metadata": {},
   "source": [
    "### Yasser Abduallah, Jason T. L. Wang, Haimin Wang"
   ]
  },
  {
   "cell_type": "markdown",
   "id": "deee753e",
   "metadata": {},
   "source": [
    "## 1. Introduction"
   ]
  },
  {
   "cell_type": "markdown",
   "id": "ba6a5823",
   "metadata": {},
   "source": [
    "Solar flare prediction plays an important role in understanding and forecasting space weather. The main goal of the Helioseismic and Magnetic Imager (HMI), one of the instruments on NASA's Solar Dynamics Observatory, is to study the origin of solar variability and characterize the Sun's magnetic activity. HMI provides continuous full-disk observations of the solar vector magnetic field with high cadence data that lead to reliable predictive capability; yet, solar flare prediction effort utilizing these data is still limited.\n",
    "\n",
    "In this notebook we provide an overview of the FlareML system to demonstrate how to predict solar flares using machine learning (ML)."
   ]
  },
  {
   "cell_type": "markdown",
   "id": "7eb003ff",
   "metadata": {},
   "source": [
    "## 2. FlareML Workflow"
   ]
  },
  {
   "cell_type": "markdown",
   "id": "4c48be24",
   "metadata": {},
   "source": [
    "### 2.1 Data Prepration & Loading"
   ]
  },
  {
   "cell_type": "markdown",
   "id": "493874a6",
   "metadata": {},
   "source": [
    "The data folder includes two sub-directories: train_data and test_data.\n",
    "* The train_data includes a CSV training data file that is used to train the model. \n",
    "* The test_data includes a CSV test data file that is used to predict the included flares.\n",
    "\n",
    "The files are loaded and used during the testing and training process.\n"
   ]
  },
  {
   "cell_type": "markdown",
   "id": "bddb38a3",
   "metadata": {},
   "source": [
    "### 2.2 Model Training and Testing\n",
    "You may train the model with your own data or train the model with the default data (see Sections 2.2.1 and 2.2.2) or run the prediction using the pre-trained model (see Section 2.2.3) "
   ]
  },
  {
   "cell_type": "markdown",
   "id": "2d64634c",
   "metadata": {},
   "source": [
    "#### 2.2.1 Model Training with Default Data\n",
    "To train the model with your own data:\n",
    "1. You should first upload your file to the data directory (in the left hand side file list).\n",
    "2. Edit the args variable in the following code and update the path to the training file:<br> 'train_data_file':'data/train_data/flaringar_training_sample.csv' <br>and replace the value 'data/train_data/flaringar_training_sample.csv' with your new file name.\n",
    "3. You may also train your model with one of the following algorithms: ENS, RF, MLP, and ELM by changing the args variable in the following code:<br>'algorithm': 'ENS'\n"
   ]
  },
  {
   "cell_type": "code",
   "execution_count": null,
   "id": "7cd949d0",
   "metadata": {},
   "outputs": [],
   "source": [
    "print('Loading the train_model function...')\n",
    "from flareml_train import train_model\n",
    "args = {'train_data_file':'data/train_data/flaringar_training_sample.csv', \n",
    "       'algorithm': 'ENS', \n",
    "       'modelid': 'custom_model_id'\n",
    "      }\n",
    "train_model(args)\n"
   ]
  },
  {
   "cell_type": "markdown",
   "id": "ef799aa4",
   "metadata": {},
   "source": [
    "#### 2.2.2 Predicting with Your Model\n",
    "To predict the testing data using the model you trained above, make sure the modelid value in the args variable in the following code is set exactly as the one used in the training, for example: 'custom_model_id'."
   ]
  },
  {
   "cell_type": "code",
   "execution_count": null,
   "id": "4462fa5f",
   "metadata": {},
   "outputs": [],
   "source": [
    "from flareml_test import test_model\n",
    "args =  {'test_data_file': 'data/test_data/flaringar_simple_random_40.csv', \n",
    "         'algorithm': 'ENS', \n",
    "         'modelid': 'custom_model_id'}\n",
    "custom_result = test_model(args)"
   ]
  },
  {
   "cell_type": "markdown",
   "id": "1f086d50",
   "metadata": {},
   "source": [
    "#### 2.2.2.1 Plotting the Results\n",
    "The prediction result can be plotted by passing the result variable to the function plot_result as as shown in the following example. The result shows the accuracy (TSS value) your model achieves for each flare class."
   ]
  },
  {
   "cell_type": "code",
   "execution_count": null,
   "id": "4a8b18d0",
   "metadata": {},
   "outputs": [],
   "source": [
    "from flareml_utils import plot_custom_result\n",
    "plot_custom_result(custom_result)"
   ]
  },
  {
   "cell_type": "markdown",
   "id": "497a7341",
   "metadata": {},
   "source": [
    "#### 2.2.3 Predicting with Pretrained Models\n",
    "There are default and pretrained models that can be used to predict without running your own trained model. The modelid  is set to default_model which uses all pretrained algorithms."
   ]
  },
  {
   "cell_type": "code",
   "execution_count": null,
   "id": "69e73e67",
   "metadata": {},
   "outputs": [],
   "source": [
    "from flareml_test import test_model\n",
    "args =  {'test_data_file': 'data/test_data/flaringar_simple_random_40.csv', \n",
    "         'algorithm': 'ENS', \n",
    "         'modelid': 'default_model'}\n",
    "result = test_model(args)"
   ]
  },
  {
   "cell_type": "markdown",
   "id": "3c18add3",
   "metadata": {},
   "source": [
    "#### 2.2.3.1 Plotting the Results\n",
    "The prediction result can be plotted by passing the result variable to the function plot_result as as shown in the following example.\n",
    "The result shows the accuracy (TSS value) your model achieves for each flare class."
   ]
  },
  {
   "cell_type": "code",
   "execution_count": null,
   "id": "f040cdc7",
   "metadata": {},
   "outputs": [],
   "source": [
    "from flareml_utils import plot_result\n",
    "plot_result(result)"
   ]
  },
  {
   "cell_type": "markdown",
   "id": "2dab0eae",
   "metadata": {},
   "source": [
    "## 2. Acknowledgment\n",
    "We thank the team of *SDO*/HMI for producing vector magnetic field data products.\n",
    "The flare catalogs were prepared by and made available through NOAA NCEI.\n",
    "The CME and SEP event records were provided by DONKI.\n",
    "This work was supported by U.S. NSF grants AGS-1927578 and AGS-1954737.\n",
    "J.W. thanks Manolis K. Georgoulis for helpful conversations in the SHINE 2019 Conference.\n",
    "Q.L. and H.W. acknowledge the support of NASA under grants 80NSSC20K1282,\n",
    "80NSSC18K0673, and 80NSSC18K1705."
   ]
  },
  {
   "cell_type": "markdown",
   "id": "6643b5e9",
   "metadata": {},
   "source": [
    "## 3. References\n",
    "DeepSun: machine-learning-as-a-service for solar flare prediction\n",
    "\n",
    "Yasser Abduallah, Jason T. L. Wang and Haimin Wang \n",
    "\n",
    "https://iopscience.iop.org/article/10.1088/1674-4527/21/7/160"
   ]
  }
 ],
 "metadata": {
  "kernelspec": {
   "display_name": "Python 3 (ipykernel)",
   "language": "python",
   "name": "python3"
  },
  "language_info": {
   "codemirror_mode": {
    "name": "ipython",
    "version": 3
   },
   "file_extension": ".py",
   "mimetype": "text/x-python",
   "name": "python",
   "nbconvert_exporter": "python",
   "pygments_lexer": "ipython3",
   "version": "3.8.10"
  }
 },
 "nbformat": 4,
 "nbformat_minor": 5
}
