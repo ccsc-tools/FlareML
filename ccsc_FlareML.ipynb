{
 "cells": [
  {
   "cell_type": "markdown",
   "id": "5d6d90cd",
   "metadata": {},
   "source": [
    "# Predicting Solar Flares with Ensemble Machine Learning"
   ]
  },
  {
   "cell_type": "markdown",
   "id": "1dc15256",
   "metadata": {},
   "source": [
    "### Yasser Abduallah, Jason T. L. Wang, Haimin Wang"
   ]
  },
  {
   "cell_type": "markdown",
   "id": "deee753e",
   "metadata": {},
   "source": [
    "## 1. Introduction"
   ]
  },
  {
   "cell_type": "markdown",
   "id": "ba6a5823",
   "metadata": {},
   "source": [
    "Solar flare prediction plays an important role in understanding and forecasting space weather. The main goal of the Helioseismic and Magnetic Imager (HMI), one of the instruments on NASA's Solar Dynamics Observatory, is to study the origin of solar variability and characterize the Sun's magnetic activity. HMI provides continuous full-disk observations of the solar vector magnetic field with high cadence data that lead to reliable predictive capability; yet, solar flare prediction effort utilizing these data is still limited.\n",
    "\n",
    "In this notebook we provide an overview of the FlareML tool to show how predict solare flare(s)."
   ]
  },
  {
   "cell_type": "markdown",
   "id": "7eb003ff",
   "metadata": {},
   "source": [
    "## 2. FlareML Workflow"
   ]
  },
  {
   "cell_type": "code",
   "execution_count": null,
   "id": "4bed9bc6",
   "metadata": {},
   "outputs": [],
   "source": []
  }
 ],
 "metadata": {
  "kernelspec": {
   "display_name": "Python 3 (ipykernel)",
   "language": "python",
   "name": "python3"
  },
  "language_info": {
   "codemirror_mode": {
    "name": "ipython",
    "version": 3
   },
   "file_extension": ".py",
   "mimetype": "text/x-python",
   "name": "python",
   "nbconvert_exporter": "python",
   "pygments_lexer": "ipython3",
   "version": "3.8.10"
  }
 },
 "nbformat": 4,
 "nbformat_minor": 5
}
