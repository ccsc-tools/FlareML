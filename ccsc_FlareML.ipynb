{
 "cells": [
  {
   "cell_type": "markdown",
   "id": "5d6d90cd",
   "metadata": {},
   "source": [
    "# Predicting Solar Flares with Machine Learning"
   ]
  },
  {
   "cell_type": "markdown",
   "id": "1dc15256",
   "metadata": {},
   "source": [
    "### Yasser Abduallah, Jason T. L. Wang, Haimin Wang"
   ]
  },
  {
   "cell_type": "markdown",
   "id": "deee753e",
   "metadata": {},
   "source": [
    "## 1. Introduction"
   ]
  },
  {
   "cell_type": "markdown",
   "id": "ba6a5823",
   "metadata": {},
   "source": [
    "Solar flare prediction plays an important role in understanding and forecasting space weather. The main goal of the Helioseismic and Magnetic Imager (HMI), one of the instruments on NASA's Solar Dynamics Observatory, is to study the origin of solar variability and characterize the Sun's magnetic activity. HMI provides continuous full-disk observations of the solar vector magnetic field with high cadence data that lead to reliable predictive capability; yet, solar flare prediction effort utilizing these data is still limited.\n",
    "\n",
    "In this notebook we provide an overview of the FlareML system to demonstrate how to predict solar flares using machine learning (ML)."
   ]
  },
  {
   "cell_type": "markdown",
   "id": "7eb003ff",
   "metadata": {},
   "source": [
    "## 2. FlareML Workflow"
   ]
  },
  {
   "cell_type": "markdown",
   "id": "4c48be24",
   "metadata": {},
   "source": [
    "### 2.1 Data Prepration & Loading"
   ]
  },
  {
   "cell_type": "markdown",
   "id": "493874a6",
   "metadata": {},
   "source": [
    "The data folder includes two sub-directories: train_data and test_data.\n",
    "* The train_data includes a CSV training data file that is used to train the model. \n",
    "* The test_data includes a CSV test data file that is used to predict the included flares.\n",
    "\n",
    "The files are loaded and used by during the testing and training process.\n"
   ]
  },
  {
   "cell_type": "markdown",
   "id": "bddb38a3",
   "metadata": {},
   "source": [
    "### 2.2 Model Training and Testing\n",
    "You may train the model with your own model or retrain the model with default data (see Section 2.2.1 and 2.2.2) or run the prediction using the pre-trained model (see Section 2.2.3) "
   ]
  },
  {
   "cell_type": "markdown",
   "id": "2d64634c",
   "metadata": {},
   "source": [
    "#### 2.2.1 Model Training and Prediction\n",
    "To train the model with your own data:\n",
    "1. you should first upload or create your file to the data directory (in the left hand side file list).\n",
    "2. Edit the args variable in the following code and update the path to the training file:<br> 'train_data_file':'data/train_data/flaringar_training_sample.csv' <br>and replace the value 'data/train_data/flaringar_training_sample.csv' with your new file name.\n",
    "3. You may also train your model with one of the following algorithms: ENS, RF, MLP, and ELM by changing the args variable in the following code:<br>'algorithm': 'ENS'\n"
   ]
  },
  {
   "cell_type": "code",
   "execution_count": null,
   "id": "7cd949d0",
   "metadata": {},
   "outputs": [],
   "source": [
    "print('Loading the train_model function...')\n",
    "from flareml_train import train_model\n",
    "args = {'train_data_file':'data/train_data/flaringar_training_sample.csv', \n",
    "       'algorithm': 'ENS', \n",
    "       'modelid': 'custom_model_id'\n",
    "      }\n",
    "train_model(args)\n"
   ]
  },
  {
   "cell_type": "markdown",
   "id": "ef799aa4",
   "metadata": {},
   "source": [
    "#### 2.2.2 Predicting with Your Model\n",
    "To predict the testing data using the model you trained above, make sure the modelid value in the args variable in the following code is set exactly as the one used in the training, for example: 'custom_model_id'."
   ]
  },
  {
   "cell_type": "code",
   "execution_count": null,
   "id": "4462fa5f",
   "metadata": {},
   "outputs": [],
   "source": [
    "from flareml_test import test_model\n",
    "args =  {'test_data_file': 'data/test_data/flaringar_simple_random_40.csv', \n",
    "         'algorithm': 'ENS', \n",
    "         'modelid': 'custom_model_id'}\n",
    "custom_result = test_model(args)"
   ]
  },
  {
   "cell_type": "markdown",
   "id": "497a7341",
   "metadata": {},
   "source": [
    "#### 2.2.3 Prediction with Pretrained Model\n",
    "There are default and pretrained models that can be used to predict without running your own trained model. The modelid  is set to default_model which uses all pretrained algorithms."
   ]
  },
  {
   "cell_type": "code",
   "execution_count": null,
   "id": "69e73e67",
   "metadata": {},
   "outputs": [],
   "source": [
    "from flareml_test import test_model\n",
    "args =  {'test_data_file': 'data/test_data/flaringar_simple_random_40.csv', \n",
    "         'algorithm': 'ENS', \n",
    "         'modelid': 'default_model'}\n",
    "result = test_model(args)"
   ]
  },
  {
   "cell_type": "markdown",
   "id": "3c18add3",
   "metadata": {},
   "source": [
    "#### 2.2.4 Plotting the Results\n",
    "The prediction result can be plotted by passing the result variable to the function plot_result as the following example."
   ]
  },
  {
   "cell_type": "code",
   "execution_count": null,
   "id": "f040cdc7",
   "metadata": {},
   "outputs": [],
   "source": [
    "from flareml_utils import plot_result\n",
    "plot_result(result)"
   ]
  },
  {
   "cell_type": "markdown",
   "id": "57aaa5be",
   "metadata": {},
   "source": [
    "#### 2.3 Training and Predicting Specific Model\n",
    "You can train and predict specific modle by updating the algorithm variable in the following code to one of the following: RF, MLP, ELM.\n",
    "RF is for random forest algorithm.\n",
    "MLP is for multilayer perceptron algorithm.\n",
    "ELM is for extreme learning machine algorithm."
   ]
  },
  {
   "cell_type": "code",
   "execution_count": null,
   "id": "d97d622a",
   "metadata": {},
   "outputs": [],
   "source": [
    "from flareml_train import train_model\n",
    "from flareml_test import test_model\n",
    "from flareml_utils import plot_result\n",
    "args = {'train_data_file':'data/train_data/flaringar_training_sample.csv', \n",
    "        'test_data_file': 'data/test_data/flaringar_simple_random_40.csv',\n",
    "       'algorithm': 'ELM', \n",
    "       'modelid': 'custom_model_id'\n",
    "      }\n",
    "print('Start the training')\n",
    "train_model(args)\n",
    "\n",
    "print('Start the prediction task.')\n",
    "model_result = test_model(args)\n",
    "print('Plotting the result')\n",
    "plot_result(model_result)"
   ]
  },
  {
   "cell_type": "markdown",
   "id": "2dab0eae",
   "metadata": {},
   "source": [
    "## 2. Acknowledgment\n",
    "We thank the team of *SDO*/HMI for producing vector magnetic field data products.\n",
    "The flare catalogs were prepared by and made available through NOAA NCEI.\n",
    "The CME and SEP event records were provided by DONKI.\n",
    "This work was supported by U.S. NSF grants AGS-1927578 and AGS-1954737.\n",
    "J.W. thanks Manolis K. Georgoulis for helpful conversations in the SHINE 2019 Conference.\n",
    "Q.L. and H.W. acknowledge the support of NASA under grants 80NSSC20K1282,\n",
    "80NSSC18K0673, and 80NSSC18K1705."
   ]
  },
  {
   "cell_type": "markdown",
   "id": "6643b5e9",
   "metadata": {},
   "source": [
    "## 3. References\n",
    "DeepSun: machine-learning-as-a-service for solar flare prediction\n",
    "\n",
    "Yasser Abduallah, Jason T. L. Wang and Haimin Wang \n",
    "\n",
    "https://iopscience.iop.org/article/10.1088/1674-4527/21/7/160"
   ]
  },
  {
   "cell_type": "code",
   "execution_count": null,
   "id": "d30c28a8",
   "metadata": {},
   "outputs": [],
   "source": []
  }
 ],
 "metadata": {
  "kernelspec": {
   "display_name": "Python 3 (ipykernel)",
   "language": "python",
   "name": "python3"
  },
  "language_info": {
   "codemirror_mode": {
    "name": "ipython",
    "version": 3
   },
   "file_extension": ".py",
   "mimetype": "text/x-python",
   "name": "python",
   "nbconvert_exporter": "python",
   "pygments_lexer": "ipython3",
   "version": "3.8.10"
  }
 },
 "nbformat": 4,
 "nbformat_minor": 5
}
