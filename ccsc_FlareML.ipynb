{
 "cells": [
  {
   "cell_type": "markdown",
   "metadata": {},
   "source": [
    "# Predicting Solar Flares with Machine Learning"
   ]
  },
  {
   "cell_type": "markdown",
   "metadata": {},
   "source": [
    "### Yasser Abduallah, Jason T. L. Wang, Haimin Wang"
   ]
  },
  {
   "cell_type": "markdown",
   "metadata": {},
   "source": [
    "## 1. Introduction"
   ]
  },
  {
   "cell_type": "markdown",
   "metadata": {},
   "source": [
    "Solar flare prediction plays an important role in understanding and forecasting space weather. The main goal of the Helioseismic and Magnetic Imager (HMI), one of the instruments on NASA's Solar Dynamics Observatory, is to study the origin of solar variability and characterize the Sun's magnetic activity. HMI provides continuous full-disk observations of the solar vector magnetic field with high cadence data that lead to reliable predictive capability; yet, solar flare prediction effort utilizing these data is still limited.\n",
    "\n",
    "In this notebook we provide an overview of the FlareML system to demonstrate how to predict solar flares using machine learning (ML) and SDO/HMI vector magnetic data products (SHARP parameters)."
   ]
  },
  {
   "cell_type": "markdown",
   "metadata": {},
   "source": [
    "## 2. FlareML Workflow"
   ]
  },
  {
   "cell_type": "markdown",
   "metadata": {},
   "source": [
    "### 2.1 Data Prepration & Loading"
   ]
  },
  {
   "cell_type": "markdown",
   "metadata": {},
   "source": [
    "The data folder includes two sub-directories: train_data and test_data.\n",
    "* The train_data includes a CSV training data file that is used to train the model. \n",
    "* The test_data includes a CSV test data file that is used to predict the included flares.\n",
    "\n",
    "The files are loaded and used during the testing and training process.\n"
   ]
  },
  {
   "cell_type": "markdown",
   "metadata": {},
   "source": [
    "### 2.2 ENS Model Training and Testing\n",
    "You may train the model with your own data or train the model with the default data (see Sections 2.2.1 and 2.2.2)."
   ]
  },
  {
   "cell_type": "markdown",
   "metadata": {},
   "source": [
    "#### 2.2.1 ENS Model Training with Default Data\n",
    "Here, we show how to train the model with default data.\n",
    "To train the model with your own data:\n",
    "1. You should first upload your file to the data directory (in the left hand side file list).\n",
    "2. Edit the args variable in the following code and update the path to the training file:<br> 'train_data_file':'data/train_data/flaringar_training_sample.csv' <br>and replace the value 'data/train_data/flaringar_training_sample.csv' with your new file name."
   ]
  },
  {
   "cell_type": "code",
   "execution_count": 1,
   "metadata": {},
   "outputs": [
    {
     "name": "stdout",
     "output_type": "stream",
     "text": [
      "Loading the train_model function...\n",
      "Starting training with a model with id: custom_model_id training data file: data/train_data/flaringar_training_sample.csv\n",
      "Loading data set...\n",
      "Training is in progress, please wait until it is done...\n",
      "Finished 1/3 training..\n",
      "Finished 2/3 training..\n",
      "Finished 3/3 training..\n",
      "\n",
      "Finished training the ENS model, you may use the flareml_test.py program to make prediction.\n"
     ]
    }
   ],
   "source": [
    "print('Loading the train_model function...')\n",
    "from flareml_train import train_model\n",
    "args = {'train_data_file':'data/train_data/flaringar_training_sample.csv',\n",
    "        'algorithm': 'ENS',\n",
    "       'modelid': 'custom_model_id'\n",
    "      }\n",
    "train_model(args)"
   ]
  },
  {
   "cell_type": "markdown",
   "metadata": {},
   "source": [
    "#### 2.2.2 Predicting with Your ENS Model\n",
    "To predict the testing data using the model you trained above, make sure the modelid value in the args variable in the following code is set exactly as the one used in the training, for example: 'custom_model_id'."
   ]
  },
  {
   "cell_type": "code",
   "execution_count": 2,
   "metadata": {},
   "outputs": [
    {
     "name": "stdout",
     "output_type": "stream",
     "text": [
      "Starting testing with a model with id: custom_model_id testing data file: data/test_data/flaringar_simple_random_40.csv\n",
      "Loading data set...\n",
      "Done loading data...\n",
      "Formatting and mapping the flares classes..\n",
      "Prediction is in progress, please wait until it is done...\n",
      "Finished the prediction task..\n"
     ]
    }
   ],
   "source": [
    "from flareml_test import test_model\n",
    "args =  {'test_data_file': 'data/test_data/flaringar_simple_random_40.csv', \n",
    "         'algorithm': 'ENS', \n",
    "         'modelid': 'custom_model_id'}\n",
    "custom_result = test_model(args)"
   ]
  },
  {
   "cell_type": "markdown",
   "metadata": {},
   "source": [
    "#### 2.2.3 Plotting the Results\n",
    "The prediction result can be plotted by passing the result variable to the function plot_custom_result as shown in the following example. The result shows the accuracy (TSS value) your model achieves for each flare class."
   ]
  },
  {
   "cell_type": "code",
   "execution_count": 3,
   "metadata": {},
   "outputs": [
    {
     "data": {
      "image/png": "[encoded data removed]",
      "text/plain": [
       "<Figure size 432x273.6 with 1 Axes>"
      ]
     },
     "metadata": {
      "needs_background": "light"
     },
     "output_type": "display_data"
    }
   ],
   "source": [
    "from flareml_utils import plot_custom_result\n",
    "plot_custom_result(custom_result)"
   ]
  },
  {
   "cell_type": "markdown",
   "metadata": {},
   "source": [
    "### 2.3 RF Model Training and Testing"
   ]
  },
  {
   "cell_type": "markdown",
   "metadata": {},
   "source": [
    "#### 2.3.1 RF Model Training with Default Data"
   ]
  },
  {
   "cell_type": "code",
   "execution_count": 4,
   "metadata": {},
   "outputs": [
    {
     "name": "stdout",
     "output_type": "stream",
     "text": [
      "Loading the train_model function...\n",
      "Starting training with a model with id: custom_model_id training data file: data/train_data/flaringar_training_sample.csv\n",
      "Loading data set...\n",
      "Training is in progress, please wait until it is done...\n",
      "\n",
      "Finished training the RF model, you may use the flareml_test.py program to make prediction.\n"
     ]
    }
   ],
   "source": [
    "print('Loading the train_model function...')\n",
    "from flareml_train import train_model\n",
    "args = {'train_data_file':'data/train_data/flaringar_training_sample.csv',\n",
    "        'algorithm': 'RF',\n",
    "       'modelid': 'custom_model_id'\n",
    "      }\n",
    "train_model(args)"
   ]
  },
  {
   "cell_type": "markdown",
   "metadata": {},
   "source": [
    "#### 2.3.2 Predicting with Your RF Model"
   ]
  },
  {
   "cell_type": "code",
   "execution_count": 5,
   "metadata": {},
   "outputs": [
    {
     "name": "stdout",
     "output_type": "stream",
     "text": [
      "Starting testing with a model with id: custom_model_id testing data file: data/test_data/flaringar_simple_random_40.csv\n",
      "Loading data set...\n",
      "Done loading data...\n",
      "Formatting and mapping the flares classes..\n",
      "Prediction is in progress, please wait until it is done...\n",
      "Finished the prediction task..\n"
     ]
    }
   ],
   "source": [
    "from flareml_test import test_model\n",
    "args =  {'test_data_file': 'data/test_data/flaringar_simple_random_40.csv', \n",
    "         'algorithm': 'RF', \n",
    "         'modelid': 'custom_model_id'}\n",
    "custom_result = test_model(args)"
   ]
  },
  {
   "cell_type": "markdown",
   "metadata": {},
   "source": [
    "#### 2.3.3 Plotting the Results"
   ]
  },
  {
   "cell_type": "code",
   "execution_count": 6,
   "metadata": {},
   "outputs": [
    {
     "data": {
      "image/png": "[encoded data removed]",
      "text/plain": [
       "<Figure size 432x273.6 with 1 Axes>"
      ]
     },
     "metadata": {
      "needs_background": "light"
     },
     "output_type": "display_data"
    }
   ],
   "source": [
    "from flareml_utils import plot_custom_result\n",
    "plot_custom_result(custom_result)"
   ]
  },
  {
   "cell_type": "markdown",
   "metadata": {},
   "source": [
    "### 2.4 MLP Model Training and Testing\n",
    "#### 2.4.1 MLP Model Training with Default Data"
   ]
  },
  {
   "cell_type": "code",
   "execution_count": 7,
   "metadata": {},
   "outputs": [
    {
     "name": "stdout",
     "output_type": "stream",
     "text": [
      "Loading the train_model function...\n",
      "Starting training with a model with id: custom_model_id training data file: data/train_data/flaringar_training_sample.csv\n",
      "Loading data set...\n",
      "Training is in progress, please wait until it is done...\n",
      "\n",
      "Finished training the MLP model, you may use the flareml_test.py program to make prediction.\n"
     ]
    }
   ],
   "source": [
    "print('Loading the train_model function...')\n",
    "from flareml_train import train_model\n",
    "args = {'train_data_file':'data/train_data/flaringar_training_sample.csv',\n",
    "        'algorithm': 'MLP',\n",
    "       'modelid': 'custom_model_id'\n",
    "      }\n",
    "train_model(args)"
   ]
  },
  {
   "cell_type": "markdown",
   "metadata": {},
   "source": [
    "#### 2.4.2 Predicting with Your MLP Model"
   ]
  },
  {
   "cell_type": "code",
   "execution_count": 8,
   "metadata": {},
   "outputs": [
    {
     "name": "stdout",
     "output_type": "stream",
     "text": [
      "Starting testing with a model with id: custom_model_id testing data file: data/test_data/flaringar_simple_random_40.csv\n",
      "Loading data set...\n",
      "Done loading data...\n",
      "Formatting and mapping the flares classes..\n",
      "Prediction is in progress, please wait until it is done...\n",
      "Finished the prediction task..\n"
     ]
    }
   ],
   "source": [
    "from flareml_test import test_model\n",
    "args =  {'test_data_file': 'data/test_data/flaringar_simple_random_40.csv', \n",
    "         'algorithm': 'MLP', \n",
    "         'modelid': 'custom_model_id'}\n",
    "custom_result = test_model(args)"
   ]
  },
  {
   "cell_type": "markdown",
   "metadata": {},
   "source": [
    "#### 2.4.3 Plotting the Results"
   ]
  },
  {
   "cell_type": "code",
   "execution_count": 9,
   "metadata": {},
   "outputs": [
    {
     "data": {
      "image/png": "[encoded data removed]",
      "text/plain": [
       "<Figure size 432x273.6 with 1 Axes>"
      ]
     },
     "metadata": {
      "needs_background": "light"
     },
     "output_type": "display_data"
    }
   ],
   "source": [
    "from flareml_utils import plot_custom_result\n",
    "plot_custom_result(custom_result)"
   ]
  },
  {
   "cell_type": "markdown",
   "metadata": {},
   "source": [
    "### 2.5 ELM Model Training and Testing\n",
    "#### 2.5.1 ELM Model Training with Default Data"
   ]
  },
  {
   "cell_type": "code",
   "execution_count": 10,
   "metadata": {},
   "outputs": [
    {
     "name": "stdout",
     "output_type": "stream",
     "text": [
      "Loading the train_model function...\n",
      "Starting training with a model with id: custom_model_id training data file: data/train_data/flaringar_training_sample.csv\n",
      "Loading data set...\n",
      "Training is in progress, please wait until it is done...\n",
      "\n",
      "Finished training the ELM model, you may use the flareml_test.py program to make prediction.\n"
     ]
    }
   ],
   "source": [
    "print('Loading the train_model function...')\n",
    "from flareml_train import train_model\n",
    "args = {'train_data_file':'data/train_data/flaringar_training_sample.csv',\n",
    "        'algorithm': 'ELM',\n",
    "       'modelid': 'custom_model_id'\n",
    "      }\n",
    "train_model(args)"
   ]
  },
  {
   "cell_type": "markdown",
   "metadata": {},
   "source": [
    "#### 2.5.2 Predicting with Your ELM Model"
   ]
  },
  {
   "cell_type": "code",
   "execution_count": 11,
   "metadata": {},
   "outputs": [
    {
     "name": "stdout",
     "output_type": "stream",
     "text": [
      "Starting testing with a model with id: custom_model_id testing data file: data/test_data/flaringar_simple_random_40.csv\n",
      "Loading data set...\n",
      "Done loading data...\n",
      "Formatting and mapping the flares classes..\n",
      "Prediction is in progress, please wait until it is done...\n",
      "Finished the prediction task..\n"
     ]
    }
   ],
   "source": [
    "from flareml_test import test_model\n",
    "args =  {'test_data_file': 'data/test_data/flaringar_simple_random_40.csv', \n",
    "         'algorithm': 'ELM', \n",
    "         'modelid': 'custom_model_id'}\n",
    "custom_result = test_model(args)"
   ]
  },
  {
   "cell_type": "markdown",
   "metadata": {},
   "source": [
    "#### 2.5.3 Plotting the Resluts"
   ]
  },
  {
   "cell_type": "code",
   "execution_count": 12,
   "metadata": {},
   "outputs": [
    {
     "data": {
      "image/png": "[encoded data removed]",
      "text/plain": [
       "<Figure size 432x273.6 with 1 Axes>"
      ]
     },
     "metadata": {
      "needs_background": "light"
     },
     "output_type": "display_data"
    }
   ],
   "source": [
    "from flareml_utils import plot_custom_result\n",
    "plot_custom_result(custom_result)"
   ]
  },
  {
   "cell_type": "markdown",
   "metadata": {},
   "source": [
    "### 2.6 Predicting with Pretrained Models\n",
    "There are default and pretrained models that can be used to predict without running your own trained model. The modelid  is set to default_model which uses all pretrained algorithms."
   ]
  },
  {
   "cell_type": "code",
   "execution_count": 13,
   "metadata": {},
   "outputs": [
    {
     "name": "stdout",
     "output_type": "stream",
     "text": [
      "Starting testing with a model with id: default_model testing data file: data/test_data/flaringar_simple_random_40.csv\n",
      "Loading data set...\n",
      "Done loading data...\n",
      "Formatting and mapping the flares classes..\n",
      "Prediction is in progress, please wait until it is done...\n",
      "Finished the prediction task..\n"
     ]
    }
   ],
   "source": [
    "from flareml_test import test_model\n",
    "args =  {'test_data_file': 'data/test_data/flaringar_simple_random_40.csv', \n",
    "         'modelid': 'default_model'}\n",
    "result = test_model(args)"
   ]
  },
  {
   "cell_type": "markdown",
   "metadata": {},
   "source": [
    "#### 2.6.1 Plotting the Results\n",
    "The prediction result can be plotted by passing the result variable to the function plot_result as shown in the following example.\n",
    "The result shows the accuracy (TSS value) that each of the pretrained models achieves for each flare class."
   ]
  },
  {
   "cell_type": "code",
   "execution_count": 14,
   "metadata": {},
   "outputs": [
    {
     "data": {
      "image/png": "[encoded data removed]",
      "text/plain": [
       "<Figure size 748.8x417.6 with 1 Axes>"
      ]
     },
     "metadata": {
      "needs_background": "light"
     },
     "output_type": "display_data"
    }
   ],
   "source": [
    "from flareml_utils import plot_result\n",
    "plot_result(result)"
   ]
  },
  {
   "cell_type": "markdown",
   "metadata": {},
   "source": [
    "## 3. Acknowledgment\n",
    "We thank the team of SDO/HMI for producing vector magnetic data products. The flare catalogs were prepared by and made available through NOAA NCEI. This work was supported by U.S. NSF grants AGS-1927578 and AGS-1954737."
   ]
  },
  {
   "cell_type": "markdown",
   "metadata": {},
   "source": [
    "## 4. References\n",
    "DeepSun: machine-learning-as-a-service for solar flare prediction\n",
    "\n",
    "Yasser Abduallah, Jason T. L. Wang and Haimin Wang \n",
    "\n",
    "https://iopscience.iop.org/article/10.1088/1674-4527/21/7/160"
   ]
  }
 ],
 "metadata": {
  "kernelspec": {
   "display_name": "Python 3",
   "language": "python",
   "name": "python3"
  },
  "language_info": {
   "codemirror_mode": {
    "name": "ipython",
    "version": 3
   },
   "file_extension": ".py",
   "mimetype": "text/x-python",
   "name": "python",
   "nbconvert_exporter": "python",
   "pygments_lexer": "ipython3",
   "version": "3.8.6"
  }
 },
 "nbformat": 4,
 "nbformat_minor": 5
}
